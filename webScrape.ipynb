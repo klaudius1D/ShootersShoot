{
 "cells": [
  {
   "cell_type": "code",
   "execution_count": 1,
   "metadata": {},
   "outputs": [],
   "source": [
    "import pandas as pd\n",
    "import requests\n",
    "import os\n",
    "from bs4 import BeautifulSoup"
   ]
  },
  {
   "cell_type": "code",
   "execution_count": 2,
   "metadata": {},
   "outputs": [],
   "source": [
    "# Set Playoff Years from 2020 to 2023\n",
    "years = list(range(2020, 2024))\n",
    "\n",
    "# {} used to vary dates in loop\n",
    "url_start = \"https://www.basketball-reference.com/playoffs/NBA_{}_per_game.html\"\n",
    "\n",
    "# Replace brackets with specific years based on list\n",
    "for year in years:\n",
    "    url = url_start.format(year)\n",
    "    data = requests.get(url)\n",
    "\n",
    "    # Create HTML files for each year\n",
    "    with open(\"topPicksHTML/Playoffs-{}_topPicks.html\".format(year), \"wb\") as f:\n",
    "        f.write(data.content)"
   ]
  },
  {
   "cell_type": "code",
   "execution_count": 3,
   "metadata": {},
   "outputs": [],
   "source": [
    "# using a loop, parse each html for each year in years list\n",
    "dfs = []\n",
    "for year in years:\n",
    "    url = url_start.format(year)\n",
    "    data = requests.get(url)\n",
    "    soup = BeautifulSoup(data.content, \"html.parser\")\n",
    "    topPicks_table = soup.find(\"table\", {\"id\": \"per_game_stats\"})\n",
    "    topPicks_df = pd.read_html(str(topPicks_table))[0]\n",
    "    topPicks_df = topPicks_df[topPicks_df.Rk != \"Rk\"]\n",
    "    topPicks_df[\"Year\"] = year\n",
    "\n",
    "    dfs.append(topPicks_df)\n",
    "\n",
    "    # Save all contents into one csv files into new folder called topPicksCSV\n",
    "    topPicks_df.to_csv(\"topPicksCSV/Playoffs-{}_topPicks.csv\".format(year), index=False)"
   ]
  },
  {
   "cell_type": "code",
   "execution_count": 4,
   "metadata": {},
   "outputs": [],
   "source": [
    "# combine all dataframes into one\n",
    "topPicks_df = pd.concat(dfs)\n",
    "topPicks_df.to_csv(\"topPicksCSV/Playoffs-Master_topPicks.csv\", index=False)\n",
    "\n",
    "\n",
    "# check contents of dataframe, ensure all years are included\n",
    "# topPicks_df.head()\n",
    "# topPicks_df.tail()"
   ]
  },
  {
   "cell_type": "code",
   "execution_count": null,
   "metadata": {},
   "outputs": [],
   "source": []
  }
 ],
 "metadata": {
  "kernelspec": {
   "display_name": "Python 3",
   "language": "python",
   "name": "python3"
  },
  "language_info": {
   "codemirror_mode": {
    "name": "ipython",
    "version": 3
   },
   "file_extension": ".py",
   "mimetype": "text/x-python",
   "name": "python",
   "nbconvert_exporter": "python",
   "pygments_lexer": "ipython3",
   "version": "3.11.4"
  },
  "orig_nbformat": 4
 },
 "nbformat": 4,
 "nbformat_minor": 2
}
